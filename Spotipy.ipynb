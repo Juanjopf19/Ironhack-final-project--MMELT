{
 "cells": [
  {
   "cell_type": "code",
   "execution_count": 33,
   "metadata": {},
   "outputs": [],
   "source": [
    "import sys\n",
    "import spotipy\n",
    "from spotipy.oauth2 import SpotifyClientCredentials\n",
    "\n",
    "client_credentials_manager = SpotifyClientCredentials(\"bcd05cdd915c49429590886e25342140\", \"0eae1090f5c347769d17b38d4892e303\")\n",
    "sp = spotipy.Spotify(client_credentials_manager=client_credentials_manager)\n",
    "\n",
    "user = 'zltm3cqxt0u0s9k4e8oy564dk'\n",
    "\n",
    "if len(sys.argv) > 1:\n",
    "    user = sys.argv[1]\n",
    "\n",
    "playlists = sp.user_playlists(user)\n",
    "\n",
    "while playlists:\n",
    "    for i, playlist in enumerate(playlists['items']):\n",
    "        print(\"%4d %s %s\" % (i + 1 + playlists['offset'], playlist['uri'],  playlist['name']))\n",
    "    if playlists['next']:\n",
    "        playlists = sp.next(playlists)\n",
    "    else:\n",
    "        playlists = None"
   ]
  },
  {
   "cell_type": "code",
   "execution_count": 31,
   "metadata": {},
   "outputs": [],
   "source": [
    "import sys\n",
    "import spotipy\n",
    "import spotipy.util as util\n",
    "import os\n",
    "\n",
    "os.environ[\"SPOTIPY_CLIENT_ID\"] = \"bcd05cdd915c49429590886e25342140\"\n",
    "os.environ[\"SPOTIPY_CLIENT_SECRET\"] = \"0eae1090f5c347769d17b38d4892e303\"\n",
    "os.environ[\"SPOTIPY_REDIRECT_URI\"] = \"https://example.com/callback/\"\n",
    "\n",
    "\n",
    "def show_tracks(tracks):\n",
    "    for i, item in enumerate(tracks['items']):\n",
    "        track = item['track']\n",
    "        print(\"   %d %32.32s %s\" % (i, track['artists'][0]['name'],\n",
    "            track['name']))\n",
    "\n",
    "\n",
    "if __name__ == '__main__':\n",
    "    if len(sys.argv) > 1:\n",
    "        username = sys.argv[1]\n",
    "    else:\n",
    "        print(\"Whoops, need your username!\")\n",
    "        print(\"usage: python user_playlists.py [username]\")\n",
    "        sys.exit()\n",
    "\n",
    "    token = 'BQDI_FRY0QjMVLvpS4VpHJkJ-6HGIat3jZ0Sd81iN9jnNbf6dhhImvse0IkOdhaajEyUi6efusnm8yTFrObJAlatFpIUzVQEPminKd9G2mQZoFNSKxaWwTyGF65NM8hN222hcVGHKhrWcxX_awf2x5rgs-UNpUCnUaWf'\n",
    "\n",
    "    if token:\n",
    "        sp = spotipy.Spotify(auth=token)\n",
    "        playlists = sp.user_playlists(\"zltm3cqxt0u0s9k4e8oy564dk\")\n",
    "        for playlist in playlists['items']:\n",
    "            if playlist['owner']['id'] == \"username\":\n",
    "                print\n",
    "                print(playlist['name'])\n",
    "                print('  total tracks', playlist['tracks']['total'])\n",
    "                results = sp.user_playlist(username, playlist['id'],\n",
    "                    fields=\"tracks,next\")\n",
    "                tracks = results['tracks']\n",
    "                show_tracks(tracks)\n",
    "                while tracks['next']:\n",
    "                    tracks = sp.next(tracks)\n",
    "                    show_tracks(tracks)\n",
    "    else:\n",
    "        print(\"Can't get token for\", username)"
   ]
  },
  {
   "cell_type": "code",
   "execution_count": 26,
   "metadata": {},
   "outputs": [
    {
     "data": {
      "text/plain": [
       "'BQDI_FRY0QjMVLvpS4VpHJkJ-6HGIat3jZ0Sd81iN9jnNbf6dhhImvse0IkOdhaajEyUi6efusnm8yTFrObJAlatFpIUzVQEPminKd9G2mQZoFNSKxaWwTyGF65NM8hN222hcVGHKhrWcxX_awf2x5rgs-UNpUCnUaWf'"
      ]
     },
     "execution_count": 26,
     "metadata": {},
     "output_type": "execute_result"
    }
   ],
   "source": [
    "token"
   ]
  },
  {
   "cell_type": "code",
   "execution_count": 19,
   "metadata": {},
   "outputs": [],
   "source": [
    "sp = spotipy.Spotify(auth=token)\n",
    "playlists = sp.user_playlists(username)\n",
    "for playlist in playlists['items']:\n",
    "    if playlist['owner']['id'] == username:\n",
    "        print\n",
    "        print(playlist['name'])\n",
    "        print('  total tracks', playlist['tracks']['total'])\n",
    "        results = sp.user_playlist(username, playlist['id'], fields=\"tracks,next\")\n",
    "        tracks = results['tracks']\n",
    "        show_tracks(tracks)\n",
    "        while tracks['next']:\n",
    "            tracks = sp.next(tracks)\n",
    "            print(show_tracks(tracks))"
   ]
  },
  {
   "cell_type": "code",
   "execution_count": 23,
   "metadata": {},
   "outputs": [
    {
     "name": "stdout",
     "output_type": "stream",
     "text": [
      "\n",
      "\n",
      "            User authentication requires interaction with your\n",
      "            web browser. Once you enter your credentials and\n",
      "            give authorization, you will be redirected to\n",
      "            a url.  Paste that url you were directed to to\n",
      "            complete the authorization.\n",
      "\n",
      "        \n",
      "Opened https://accounts.spotify.com/authorize?client_id=bcd05cdd915c49429590886e25342140&response_type=code&redirect_uri=https%3A%2F%2Fexample.com%2Fcallback%2F&scope=playlist-read-collaborative in your browser\n",
      "\n",
      "\n",
      "Enter the URL you were redirected to: https://example.com/callback/?code=AQDSBfIOGHkEj0bbESsdK2lhzNIz-R2_2l5QOD8SMwB6SCXviLZoRfKxO_meMgNS__3gB6l0yPpMGGBLhB5h8kHUAhhTfHbYvOGo_fAdWUVH-lhu6plIKTyvtv5NcnsrEt-KVcpaHv2gn0dy83KxTz406NK1FTInolVFXrINZNLQfCE_CYRaCkXX94VHrWx6CVgW17iN8MRZuMJZjxJbPIvL3UdTMeScVPNS7Lr9wN5lSA\n",
      "\n",
      "\n"
     ]
    },
    {
     "data": {
      "text/plain": [
       "'BQB967BZN5ACBhO7lIl-ribQGUTB1_ZYRSnUJnjo8sQ4N34S55LKUNUPAKzrYt3NrYmP6TDHQ1TiYg5jz0kfEU-A45kIvvw5ZA_2iaciDHr5NbaqRjiRAObhN2co3tkY3pqk_WMOwzMG3V0cbfRTbmVLANoZQXWAU59_jePGtQ'"
      ]
     },
     "execution_count": 23,
     "metadata": {},
     "output_type": "execute_result"
    }
   ],
   "source": [
    "util.prompt_for_user_token(\"zltm3cqxt0u0s9k4e8oy564dk\", \"playlist-read-collaborative\", client_id='bcd05cdd915c49429590886e25342140',client_secret='0eae1090f5c347769d17b38d4892e303',redirect_uri='https://example.com/callback/')\n",
    "\n",
    "\n",
    "\n",
    "\n",
    "\n",
    "\n"
   ]
  },
  {
   "cell_type": "code",
   "execution_count": null,
   "metadata": {},
   "outputs": [],
   "source": [
    "playlists = sp.user_playlists(username)\n",
    "for playlist in playlists['items']:\n",
    "    if playlist['owner']['id'] == username:\n",
    "        print()\n",
    "        print(playlist['name'])\n",
    "        print('  total tracks', playlist['tracks']['total'])\n",
    "        results = sp.user_playlist(username, playlist['id'], fields=\"tracks,next\")\n",
    "        tracks = results['tracks']\n",
    "        show_tracks(tracks)\n",
    "        while tracks['next']:\n",
    "            tracks = sp.next(tracks)\n",
    "            show_tracks(tracks)"
   ]
  },
  {
   "cell_type": "code",
   "execution_count": 1,
   "metadata": {},
   "outputs": [
    {
     "ename": "SpotifyOauthError",
     "evalue": "No client id",
     "output_type": "error",
     "traceback": [
      "\u001b[0;31m---------------------------------------------------------------------------\u001b[0m",
      "\u001b[0;31mSpotifyOauthError\u001b[0m                         Traceback (most recent call last)",
      "\u001b[0;32m<ipython-input-1-08b775ee565f>\u001b[0m in \u001b[0;36m<module>\u001b[0;34m\u001b[0m\n\u001b[1;32m      2\u001b[0m \u001b[0;32mfrom\u001b[0m \u001b[0mspotipy\u001b[0m\u001b[0;34m.\u001b[0m\u001b[0moauth2\u001b[0m \u001b[0;32mimport\u001b[0m \u001b[0mSpotifyClientCredentials\u001b[0m\u001b[0;34m\u001b[0m\u001b[0;34m\u001b[0m\u001b[0m\n\u001b[1;32m      3\u001b[0m \u001b[0;34m\u001b[0m\u001b[0m\n\u001b[0;32m----> 4\u001b[0;31m \u001b[0mclient_credentials_manager\u001b[0m \u001b[0;34m=\u001b[0m \u001b[0mSpotifyClientCredentials\u001b[0m\u001b[0;34m(\u001b[0m\u001b[0;34m)\u001b[0m\u001b[0;34m\u001b[0m\u001b[0;34m\u001b[0m\u001b[0m\n\u001b[0m\u001b[1;32m      5\u001b[0m \u001b[0msp\u001b[0m \u001b[0;34m=\u001b[0m \u001b[0mspotipy\u001b[0m\u001b[0;34m.\u001b[0m\u001b[0mSpotify\u001b[0m\u001b[0;34m(\u001b[0m\u001b[0mclient_credentials_manager\u001b[0m\u001b[0;34m=\u001b[0m\u001b[0mclient_credentials_manager\u001b[0m\u001b[0;34m)\u001b[0m\u001b[0;34m\u001b[0m\u001b[0;34m\u001b[0m\u001b[0m\n\u001b[1;32m      6\u001b[0m \u001b[0;34m\u001b[0m\u001b[0m\n",
      "\u001b[0;32m/usr/local/lib/python3.7/site-packages/spotipy/oauth2.py\u001b[0m in \u001b[0;36m__init__\u001b[0;34m(self, client_id, client_secret, proxies)\u001b[0m\n\u001b[1;32m     37\u001b[0m \u001b[0;34m\u001b[0m\u001b[0m\n\u001b[1;32m     38\u001b[0m         \u001b[0;32mif\u001b[0m \u001b[0;32mnot\u001b[0m \u001b[0mclient_id\u001b[0m\u001b[0;34m:\u001b[0m\u001b[0;34m\u001b[0m\u001b[0;34m\u001b[0m\u001b[0m\n\u001b[0;32m---> 39\u001b[0;31m             \u001b[0;32mraise\u001b[0m \u001b[0mSpotifyOauthError\u001b[0m\u001b[0;34m(\u001b[0m\u001b[0;34m'No client id'\u001b[0m\u001b[0;34m)\u001b[0m\u001b[0;34m\u001b[0m\u001b[0;34m\u001b[0m\u001b[0m\n\u001b[0m\u001b[1;32m     40\u001b[0m \u001b[0;34m\u001b[0m\u001b[0m\n\u001b[1;32m     41\u001b[0m         \u001b[0;32mif\u001b[0m \u001b[0;32mnot\u001b[0m \u001b[0mclient_secret\u001b[0m\u001b[0;34m:\u001b[0m\u001b[0;34m\u001b[0m\u001b[0;34m\u001b[0m\u001b[0m\n",
      "\u001b[0;31mSpotifyOauthError\u001b[0m: No client id"
     ]
    }
   ],
   "source": [
    "import sys\n",
    "import spotipy\n",
    "from spotipy.oauth2 import SpotifyClientCredentials\n",
    "\n",
    "client_credentials_manager = SpotifyClientCredentials()\n",
    "sp = spotipy.Spotify(client_credentials_manager=client_credentials_manager)\n",
    "\n",
    "user = ''\n",
    "\n",
    "if len(sys.argv) > 1:\n",
    "    user = sys.argv[1]\n",
    "\n",
    "playlists = sp.user_playlists(user)\n",
    "\n",
    "while playlists:\n",
    "    for i, playlist in enumerate(playlists['items']):\n",
    "        print(\"%4d %s %s\" % (i + 1 + playlists['offset'], playlist['uri'],  playlist['name']))\n",
    "    if playlists['next']:\n",
    "        playlists = sp.next(playlists)\n",
    "    else:\n",
    "        playlists = None"
   ]
  },
  {
   "cell_type": "code",
   "execution_count": null,
   "metadata": {},
   "outputs": [],
   "source": []
  }
 ],
 "metadata": {
  "kernelspec": {
   "display_name": "Python 3",
   "language": "python",
   "name": "python3"
  },
  "language_info": {
   "codemirror_mode": {
    "name": "ipython",
    "version": 3
   },
   "file_extension": ".py",
   "mimetype": "text/x-python",
   "name": "python",
   "nbconvert_exporter": "python",
   "pygments_lexer": "ipython3",
   "version": "3.7.3"
  }
 },
 "nbformat": 4,
 "nbformat_minor": 2
}
