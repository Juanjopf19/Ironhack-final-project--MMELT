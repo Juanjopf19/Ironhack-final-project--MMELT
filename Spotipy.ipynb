{
 "cells": [
  {
   "cell_type": "code",
   "execution_count": 36,
   "metadata": {},
   "outputs": [],
   "source": [
    "# Importo librerías\n",
    "\n",
    "import sys\n",
    "import spotipy\n",
    "from spotipy.oauth2 import SpotifyClientCredentials\n",
    "import pandas as pd"
   ]
  },
  {
   "cell_type": "code",
   "execution_count": 37,
   "metadata": {},
   "outputs": [],
   "source": [
    "# Obtengo credenciales\n",
    "\n",
    "client_credentials_manager = SpotifyClientCredentials(\"bcd05cdd915c49429590886e25342140\", \n",
    "                                                      \"0eae1090f5c347769d17b38d4892e303\")\n",
    "sp = spotipy.Spotify(client_credentials_manager=client_credentials_manager)"
   ]
  },
  {
   "cell_type": "code",
   "execution_count": 38,
   "metadata": {},
   "outputs": [],
   "source": [
    "# Obtengo lista de usuarios. Aquí voy a tener que hacer algo para obtener lista de muchos\n",
    "# usuarios. De momento utilizo estos dos.\n",
    "\n",
    "users = [\"sedepa\", \"zltm3cqxt0u0s9k4e8oy564dk\"]"
   ]
  },
  {
   "cell_type": "code",
   "execution_count": 56,
   "metadata": {},
   "outputs": [],
   "source": [
    "# Defino función para obtener las playlists de un usuario. En lugar de que esta función\n",
    "# apendee el return a una lista de solo playlist_ids, necesito obtener también el user, para \n",
    "# después introducirlo como argumento en la función que obtiene los temas de las playlists.\n",
    "\n",
    "def get_user_playlists(user):\n",
    "    playlists = sp.user_playlists(user)\n",
    "    for i, playlist in enumerate(playlists['items']):\n",
    "        users_playlists.append(playlist['uri'][17:])"
   ]
  },
  {
   "cell_type": "code",
   "execution_count": 57,
   "metadata": {},
   "outputs": [
    {
     "data": {
      "text/plain": [
       "0    None\n",
       "1    None\n",
       "dtype: object"
      ]
     },
     "execution_count": 57,
     "metadata": {},
     "output_type": "execute_result"
    }
   ],
   "source": [
    "# Obtengo lista de las playlists de mis usuarios\n",
    "\n",
    "users_playlists = []\n",
    "pd.Series(users).apply(get_user_playlists)"
   ]
  },
  {
   "cell_type": "code",
   "execution_count": 59,
   "metadata": {},
   "outputs": [
    {
     "data": {
      "text/plain": [
       "['5j5zTo5sz2ZQxalDea61pe',\n",
       " '6P6m0jYB2UujsG4HcSTvRY',\n",
       " '14hP0yaSyIeiBOGFT3Vqzb',\n",
       " '7AVIInZKQPJOgipt72ozRt',\n",
       " '0SMeSwYihoCfnQjAqEgGhv',\n",
       " '2WtImmCqsEqFXtoPU63Zvl',\n",
       " '2PmakmJmx78XFKyOhkUsLo',\n",
       " '3bKLqyf06OwM5Pt33I84AG',\n",
       " '4RBrNsdu5G0sSLPElE3ohw',\n",
       " '0WI5DpqgTrkKOyCwBl06Oq',\n",
       " '43q3kTvmb88A50LRuteBhy',\n",
       " '5p6qsdRztWnHTllBLEfxKC',\n",
       " '3192YgEOlTddV20JHfcPPz',\n",
       " '7xwGR2RtTOqUx8JqqH7TZ0',\n",
       " '0ANc5HBZPFkC9KqGtciFp8',\n",
       " '2Pmua1wDskVH7za4qEm3Ac',\n",
       " '78b92H7InJ4WZtefv5Cic4',\n",
       " '42DFexvGBXVujLCm6ykpng',\n",
       " '3ort1ETPRUZpObzgwNkdxH',\n",
       " '1sUlsulZro1n8lcBfEOEPA',\n",
       " '42KASzXYgtvU7pPpBmBhKt',\n",
       " '3qcU1qv8UWOsA3h24MztfS',\n",
       " '2BjF3wCzDoAENAoPHQJQ8t',\n",
       " '35tO1ltHS1DpyOTRvE0mMg',\n",
       " '14YOvGNRgmIktIz3knCIIN',\n",
       " '53ZZq8LRqZE1qJd6f94wEX',\n",
       " '25qKq79lbyzqlSr6DcRXKL',\n",
       " '2nI5mhFTlHKL2xeFSvqN8i',\n",
       " '3KecN2B0U4WOlge8vdwEtK',\n",
       " '6eQQ7nRAEEZAWUbo5WR0ea',\n",
       " '35I5lGmCPhtqqp5naMcSaM',\n",
       " '4CUqkk2SY51WY0QISNi5VC',\n",
       " '0eLjCQyrbElR5CRFrfnFut',\n",
       " '1L5mlbiFpxXGm2WIbQJWpP',\n",
       " '6sHkEyFhxTQIDxCQOZYAns']"
      ]
     },
     "execution_count": 59,
     "metadata": {},
     "output_type": "execute_result"
    }
   ],
   "source": [
    "users_playlists"
   ]
  },
  {
   "cell_type": "code",
   "execution_count": 60,
   "metadata": {},
   "outputs": [],
   "source": [
    "# Defino la función para obtener los temas de una playlist.\n",
    "\n",
    "tracks = sp.user_playlist_tracks(\"zltm3cqxt0u0s9k4e8oy564dk\", \n",
    "                                 playlist_id= \"6sHkEyFhxTQIDxCQOZYAns\", \n",
    "                                 fields=None, limit=500, offset=0, market=None)"
   ]
  },
  {
   "cell_type": "code",
   "execution_count": 116,
   "metadata": {},
   "outputs": [],
   "source": [
    "tracks_IDs = []\n",
    "tracks_names = []\n",
    "tracks_artist = []\n",
    "\n",
    "for item in tracks[\"items\"]:\n",
    "    tracks_IDs.append(item['track'][\"id\"])\n",
    "    tracks_names.append(item['track'][\"name\"])\n",
    "    for artist in item['track'][\"album\"][\"artists\"]:\n",
    "        tracks_artist.append(artist[\"name\"])"
   ]
  },
  {
   "cell_type": "code",
   "execution_count": 117,
   "metadata": {},
   "outputs": [
    {
     "name": "stdout",
     "output_type": "stream",
     "text": [
      "13\n",
      "13\n",
      "13\n"
     ]
    }
   ],
   "source": [
    "print(len(tracks_IDs))\n",
    "print(len(tracks_names))\n",
    "print(len(tracks_artist))"
   ]
  },
  {
   "cell_type": "code",
   "execution_count": null,
   "metadata": {},
   "outputs": [],
   "source": []
  }
 ],
 "metadata": {
  "kernelspec": {
   "display_name": "Python 3",
   "language": "python",
   "name": "python3"
  },
  "language_info": {
   "codemirror_mode": {
    "name": "ipython",
    "version": 3
   },
   "file_extension": ".py",
   "mimetype": "text/x-python",
   "name": "python",
   "nbconvert_exporter": "python",
   "pygments_lexer": "ipython3",
   "version": "3.7.3"
  }
 },
 "nbformat": 4,
 "nbformat_minor": 2
}
