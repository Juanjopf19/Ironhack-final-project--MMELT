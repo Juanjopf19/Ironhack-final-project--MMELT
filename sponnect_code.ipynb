{
 "cells": [
  {
   "cell_type": "code",
   "execution_count": 63,
   "metadata": {},
   "outputs": [],
   "source": [
    "# Importo librerías\n",
    "\n",
    "import spotipy\n",
    "from spotipy.oauth2 import SpotifyClientCredentials\n",
    "import pandas as pd\n",
    "from collections import Counter"
   ]
  },
  {
   "cell_type": "code",
   "execution_count": 64,
   "metadata": {},
   "outputs": [],
   "source": [
    "# Obtengo credenciales\n",
    "\n",
    "client_credentials_manager = SpotifyClientCredentials(\"bcd05cdd915c49429590886e25342140\", \n",
    "                                                      \"0eae1090f5c347769d17b38d4892e303\")\n",
    "sp = spotipy.Spotify(client_credentials_manager=client_credentials_manager)"
   ]
  },
  {
   "cell_type": "code",
   "execution_count": 65,
   "metadata": {},
   "outputs": [],
   "source": [
    "# De la aplicación voy a recibir una lista de nombres de usuarios\n",
    "# Tomo la siguiente lista como ejemplo:\n",
    "\n",
    "users = [\"sedepa\", \"zltm3cqxt0u0s9k4e8oy564dk\"]"
   ]
  },
  {
   "cell_type": "code",
   "execution_count": 66,
   "metadata": {},
   "outputs": [],
   "source": [
    "# Para el paso 3 del layout de la app, voy a tener que devolver a cada usuario una lista con \n",
    "# el nombre de sus playlists, para que seleccione cuáles va a querer subir para crear la lista \n",
    "# conjunta.\n",
    "\n",
    "# Por tanto, de la siguiente función voy a obtener un diccionario para devolver a la app, con\n",
    "# el siguiente formato:\n",
    "\n",
    "diccionario1 = {\"user1\": \n",
    "                   [\"playlist1_name\", \"playlist2_name\"],\n",
    "                \"user2\": \n",
    "                   [\"playlist1_name\", \"playlist2_name\"]}\n",
    "\n",
    "\n",
    "# Además, aunque al usuario en la app no se lo voy a mostrar, también voy a aprovechar para \n",
    "# obtener aquí el playlist_ID correspondiente a cada playlist, guardándolos en otro diccionario \n",
    "# con el siguiente formato:\n",
    "\n",
    "\n",
    "diccionario2 = {\"user1\": \n",
    "                   {\"playlist1_name\": \"playlist1_ID\", \"playlist2_name\": \"playlist2_ID\"},\n",
    "                \"user2\": \n",
    "                   {\"playlist1_name\": \"playlist1_ID\", \"playlist2_name\": \"playlist2_ID\"}}"
   ]
  },
  {
   "cell_type": "code",
   "execution_count": 67,
   "metadata": {},
   "outputs": [],
   "source": [
    "# Defino la función que obtenga ambos diccionarios a partir de una lista de usuarios.\n",
    "\n",
    "def get_user_playlists(users):\n",
    "    \n",
    "    users_playlists_names = {}\n",
    "    users_playlists_names_IDs = {}\n",
    "    \n",
    "    for user in users:\n",
    "        playlists_names = []\n",
    "        users_playlists_names_IDs[user] = {}\n",
    "        playlists = sp.user_playlists(user)\n",
    "        \n",
    "        for i, playlist in enumerate(playlists[\"items\"]):\n",
    "            playlists_names.append(playlist[\"name\"])\n",
    "            users_playlists_names_IDs[user][playlist[\"name\"]] = playlist['uri'][17:]\n",
    "            \n",
    "        users_playlists_names[user] = playlists_names\n",
    "        \n",
    "    return users_playlists_names, users_playlists_names_IDs\n"
   ]
  },
  {
   "cell_type": "code",
   "execution_count": 68,
   "metadata": {},
   "outputs": [],
   "source": [
    "# Guardo cada diccionario en una variable\n",
    "\n",
    "users_playlists_names = get_user_playlists(users)[0]\n",
    "users_playlists_names_IDs = get_user_playlists(users)[1]"
   ]
  },
  {
   "cell_type": "code",
   "execution_count": 69,
   "metadata": {},
   "outputs": [],
   "source": [
    "# El diccionario users_playlists_names va a ser devuelto a la app para que cada usuario\n",
    "# seleccione de entre sus playlists cuáles quiere subir.\n",
    "\n",
    "# Además, cada usuario va a poder filtrar las canciones de sus playlists seleccionadas \n",
    "# por los géneros que escoja.\n",
    "\n",
    "# También van a tener que indicar cuál de ellos será el \"host\" (el usuario en cuyo perfil \n",
    "# se creará la lista conjunta), y el nombre de la lista conjunta. "
   ]
  },
  {
   "cell_type": "code",
   "execution_count": 70,
   "metadata": {},
   "outputs": [],
   "source": [
    "# Después de que los usuarios hayan seleccionado las playlists que quieren subir, el género\n",
    "# de las canciones, el host y el nombre de la nueva lista, tengo que recibir \n",
    "# un diccionario con el siguiente formato:\n",
    "\n",
    "mygroup = {\"users\": \n",
    "                   {\"user1\": {\"playlists\": [], \"genres\": []}, \n",
    "                    \"user2\": {\"playlists\": [], \"genres\": []}}, \n",
    "           \"host\": \"user1\",\n",
    "           \"new_playlist_name\": \"name\"}\n",
    "\n",
    "# Es posible que las listas de valores de \"genres\" y \"playlists\" estén vacías,\n",
    "# lo cual significa que el usuario no quiere filtrar por género, y quiere seleccionar \n",
    "# todas las canciones de las playlists que sube. "
   ]
  },
  {
   "cell_type": "code",
   "execution_count": 71,
   "metadata": {},
   "outputs": [],
   "source": [
    "# Tomo los siguientes grupos como ejemplos:\n",
    "\n",
    "mygroup1 = {\"users\": \n",
    "                   {\"sedepa\": {\"playlists\": [\"MAD\", \"Correr\", \"A little of verguenza, please\"],\n",
    "                               \"genres\": [\"spanish rock\"]}, \n",
    "                    \"zltm3cqxt0u0s9k4e8oy564dk\": {\"playlists\": [\"FPP\"],\n",
    "                                                  \"genres\": []}}, \n",
    "           \"host\": \"zltm3cqxt0u0s9k4e8oy564dk\",\n",
    "           \"new_playlist_name\": \"ÉXITO\"}"
   ]
  },
  {
   "cell_type": "code",
   "execution_count": 72,
   "metadata": {},
   "outputs": [],
   "source": [
    "# Defino una función que obtenga una lista con todas las canciones que hay en todas las \n",
    "# playlist que los usuarios me han pasado, filtrando por género en caso de que así lo\n",
    "# hayan especificado.\n",
    "# Para ello, primero tengo que obtener el ID correspondiente a cada nombre de playlist\n",
    "# que me hayan pasado.\n",
    "\n",
    "def get_tracks_info(group):\n",
    "    tracks_info = []\n",
    "    for user in group[\"users\"].keys():\n",
    "        \n",
    "    # Si un usuario no seleccionan ninguna playlist, se cogen todas las de su perfil.\n",
    "        if group[\"users\"][user][\"playlists\"] == []:\n",
    "            for playlist_ID in users_playlists_names_IDs[user].values():\n",
    "                tracks_info.append(sp.user_playlist_tracks(user, playlist_id = playlist_ID))\n",
    "        \n",
    "        else:\n",
    "            for playlist in group[\"users\"][user][\"playlists\"]:\n",
    "                tracks_info.append(sp.user_playlist_tracks(user, \n",
    "                                                           playlist_id = users_playlists_names_IDs[user][playlist]))\n",
    "        \n",
    "    return tracks_info"
   ]
  },
  {
   "cell_type": "code",
   "execution_count": 73,
   "metadata": {},
   "outputs": [],
   "source": [
    "tracks_info = get_tracks_info(mygroup1)"
   ]
  },
  {
   "cell_type": "code",
   "execution_count": 74,
   "metadata": {},
   "outputs": [
    {
     "data": {
      "text/plain": [
       "4"
      ]
     },
     "execution_count": 74,
     "metadata": {},
     "output_type": "execute_result"
    }
   ],
   "source": [
    "len(tracks_info)"
   ]
  },
  {
   "cell_type": "code",
   "execution_count": 75,
   "metadata": {},
   "outputs": [],
   "source": [
    "# Aquí he conseguido filtrar por género, utilizando la info del artista de cada canción.\n",
    "# Tengo que meter este código generalizado (aquí está solo para sedepa) arriba en la función.\n",
    "\n",
    "final_track_names = []\n",
    "final_track_IDs = []\n",
    "\n",
    "for playlist in tracks_info:\n",
    "    for track in playlist[\"items\"]:\n",
    "        artist_id = track[\"track\"][\"album\"][\"artists\"][0][\"external_urls\"][\"spotify\"][32:]\n",
    "        artist_info = sp.artist(artist_id)\n",
    "        genre_in_artist = 0\n",
    "        if mygroup1[\"users\"][\"sedepa\"][\"genres\"] == []:\n",
    "            final_track_names.append(track[\"track\"][\"name\"])\n",
    "            final_track_IDs.append(track[\"track\"][\"id\"])\n",
    "        else:\n",
    "            for genre in mygroup1[\"users\"][\"sedepa\"][\"genres\"]:\n",
    "                if genre in artist_info[\"genres\"]:\n",
    "                    genre_in_artist += 1\n",
    "            if genre_in_artist > 0:\n",
    "                final_track_names.append(track[\"track\"][\"name\"])\n",
    "                final_track_IDs.append(track[\"track\"][\"id\"]) "
   ]
  },
  {
   "cell_type": "code",
   "execution_count": 76,
   "metadata": {},
   "outputs": [
    {
     "data": {
      "text/plain": [
       "['A Ti Te Ocurre Algo',\n",
       " 'Godzilla (feat. Enrique Bunbury & Ximena Sariñana)',\n",
       " 'Como Si Fueras a Morir Mañana',\n",
       " 'Expertos',\n",
       " 'Nuclear',\n",
       " 'No Te Preocupes por Mi',\n",
       " 'Afuera en la Ciudad',\n",
       " 'Guerra Mundial',\n",
       " 'El Último Incendio',\n",
       " 'Sincericidio',\n",
       " 'Medicina',\n",
       " 'Miedo',\n",
       " 'Electricidad',\n",
       " 'Ciencia Ficcion',\n",
       " 'Breaking Bad',\n",
       " 'A Ti Te Ocurre Algo',\n",
       " 'Godzilla (feat. Enrique Bunbury & Ximena Sariñana)',\n",
       " 'Como Si Fueras a Morir Mañana']"
      ]
     },
     "execution_count": 76,
     "metadata": {},
     "output_type": "execute_result"
    }
   ],
   "source": [
    "final_track_names"
   ]
  },
  {
   "cell_type": "code",
   "execution_count": 77,
   "metadata": {},
   "outputs": [],
   "source": [
    "final_track_names = [item for items, c in Counter(final_track_names).most_common() for item in [items] * c]\n",
    "final_track_IDs = [item for items, c in Counter(final_track_IDs).most_common() for item in [items] * c]"
   ]
  },
  {
   "cell_type": "code",
   "execution_count": 78,
   "metadata": {},
   "outputs": [
    {
     "data": {
      "text/plain": [
       "['A Ti Te Ocurre Algo',\n",
       " 'A Ti Te Ocurre Algo',\n",
       " 'Godzilla (feat. Enrique Bunbury & Ximena Sariñana)',\n",
       " 'Godzilla (feat. Enrique Bunbury & Ximena Sariñana)',\n",
       " 'Como Si Fueras a Morir Mañana',\n",
       " 'Como Si Fueras a Morir Mañana',\n",
       " 'Expertos',\n",
       " 'Nuclear',\n",
       " 'No Te Preocupes por Mi',\n",
       " 'Afuera en la Ciudad',\n",
       " 'Guerra Mundial',\n",
       " 'El Último Incendio',\n",
       " 'Sincericidio',\n",
       " 'Medicina',\n",
       " 'Miedo',\n",
       " 'Electricidad',\n",
       " 'Ciencia Ficcion',\n",
       " 'Breaking Bad']"
      ]
     },
     "execution_count": 78,
     "metadata": {},
     "output_type": "execute_result"
    }
   ],
   "source": [
    "final_track_names"
   ]
  },
  {
   "cell_type": "code",
   "execution_count": 79,
   "metadata": {},
   "outputs": [],
   "source": [
    "genres = ['deep house', 'minimal tech house', 'tropical house', 'spanish pop', 'spanish rock']"
   ]
  },
  {
   "cell_type": "code",
   "execution_count": null,
   "metadata": {},
   "outputs": [],
   "source": []
  }
 ],
 "metadata": {
  "kernelspec": {
   "display_name": "Python 3",
   "language": "python",
   "name": "python3"
  },
  "language_info": {
   "codemirror_mode": {
    "name": "ipython",
    "version": 3
   },
   "file_extension": ".py",
   "mimetype": "text/x-python",
   "name": "python",
   "nbconvert_exporter": "python",
   "pygments_lexer": "ipython3",
   "version": "3.7.3"
  }
 },
 "nbformat": 4,
 "nbformat_minor": 2
}
